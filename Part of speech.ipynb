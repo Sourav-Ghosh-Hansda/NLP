{
 "cells": [
  {
   "cell_type": "code",
   "execution_count": 33,
   "id": "be7fa4b3",
   "metadata": {},
   "outputs": [],
   "source": [
    "import spacy"
   ]
  },
  {
   "cell_type": "code",
   "execution_count": 34,
   "id": "32ff810b",
   "metadata": {},
   "outputs": [],
   "source": [
    "nlp= spacy.load(\"en_core_web_sm\")"
   ]
  },
  {
   "cell_type": "code",
   "execution_count": 35,
   "id": "28efe026",
   "metadata": {},
   "outputs": [
    {
     "data": {
      "text/plain": [
       "['tok2vec', 'tagger', 'parser', 'attribute_ruler', 'lemmatizer', 'ner']"
      ]
     },
     "execution_count": 35,
     "metadata": {},
     "output_type": "execute_result"
    }
   ],
   "source": [
    "nlp.pipe_names"
   ]
  },
  {
   "cell_type": "code",
   "execution_count": 36,
   "id": "a0559273",
   "metadata": {},
   "outputs": [
    {
     "name": "stdout",
     "output_type": "stream",
     "text": [
      "Elon | PROPN | proper noun\n",
      "flew | VERB | verb\n",
      "to | ADP | adposition\n",
      "mars | NOUN | noun\n",
      "yesterday | NOUN | noun\n",
      ". | PUNCT | punctuation\n",
      "He | PRON | pronoun\n",
      "carried | VERB | verb\n",
      "biryani | ADJ | adjective\n",
      "masala | NOUN | noun\n",
      "with | ADP | adposition\n",
      "him | PRON | pronoun\n"
     ]
    }
   ],
   "source": [
    "doc1=nlp(\"Elon flew to mars yesterday. He carried biryani masala with him\")\n",
    "for token in doc1:\n",
    "    print(token,\"|\",token.pos_,\"|\",spacy.explain(token.pos_))"
   ]
  },
  {
   "cell_type": "code",
   "execution_count": 37,
   "id": "07500f51",
   "metadata": {},
   "outputs": [
    {
     "name": "stdout",
     "output_type": "stream",
     "text": [
      "Wow | INTJ | interjection | UH | interjection\n",
      "! | PUNCT | punctuation | . | punctuation mark, sentence closer\n",
      "Dr. | PROPN | proper noun | NNP | noun, proper singular\n",
      "Strange | PROPN | proper noun | NNP | noun, proper singular\n",
      "made | VERB | verb | VBD | verb, past tense\n",
      "265 | NUM | numeral | CD | cardinal number\n",
      "million | NUM | numeral | CD | cardinal number\n",
      "$ | NUM | numeral | CD | cardinal number\n",
      "on | ADP | adposition | IN | conjunction, subordinating or preposition\n",
      "the | DET | determiner | DT | determiner\n",
      "very | ADV | adverb | RB | adverb\n",
      "first | ADJ | adjective | JJ | adjective (English), other noun-modifier (Chinese)\n",
      "day | NOUN | noun | NN | noun, singular or mass\n"
     ]
    }
   ],
   "source": [
    "doc2=nlp(\"Wow! Dr.Strange made 265 million $ on the very first day\")\n",
    "for token in doc2:\n",
    "    print(token,\"|\",token.pos_,\"|\",spacy.explain(token.pos_),\"|\",token.tag_,\"|\",spacy.explain(token.tag_))"
   ]
  },
  {
   "cell_type": "code",
   "execution_count": 38,
   "id": "2dbd903c",
   "metadata": {},
   "outputs": [
    {
     "name": "stdout",
     "output_type": "stream",
     "text": [
      "quits | VBZ | verb, 3rd person singular present\n"
     ]
    }
   ],
   "source": [
    "doc3=nlp(\"He quits the job\")\n",
    "doc3[1]\n",
    "print(doc3[1].text,\"|\",doc3[1].tag_,\"|\",spacy.explain(doc3[1].tag_))"
   ]
  },
  {
   "cell_type": "code",
   "execution_count": 39,
   "id": "ec64a33d",
   "metadata": {},
   "outputs": [
    {
     "name": "stdout",
     "output_type": "stream",
     "text": [
      "quit | VBD | verb, past tense\n"
     ]
    }
   ],
   "source": [
    "doc4=nlp(\"He quit the job\")\n",
    "doc4[1]\n",
    "print(doc4[1].text,\"|\",doc4[1].tag_,\"|\",spacy.explain(doc4[1].tag_))"
   ]
  },
  {
   "cell_type": "code",
   "execution_count": 40,
   "id": "e083922d",
   "metadata": {},
   "outputs": [],
   "source": [
    "earnings_text=\"\"\"Microsoft Corp. today announced the following results for the quarter ended June 30, 2023, as compared to the corresponding period of last fiscal year:\n",
    "\n",
    "·        Revenue was $56.2 billion and increased 8% (up 10% in constant currency)\n",
    "\n",
    "·        Operating income was $24.3 billion and increased 18% (up 21% in constant currency)\n",
    "\n",
    "·        Net income was $20.1 billion and increased 20% (up 23% in constant currency)\n",
    "\n",
    "·        Diluted earnings per share was $2.69 and increased 21% (up 23% in constant currency)\n",
    "\n",
    "“Organizations are asking not only how – but how fast – they can apply this next generation of AI to address the biggest opportunities and challenges they face – safely and responsibly,” said Satya Nadella, chairman and chief executive officer of Microsoft. “We remain focused on leading the new AI platform shift, helping customers use the Microsoft Cloud to get the most value out of their digital spend,driving operating leverage, etc.”\n",
    "\n",
    "“We delivered a solid close to the fiscal year driven by Microsoft Cloud quarterly revenue of $30.3 billion, up 21% (up 23% in constant currency) year-over-year,” said Amy Hood, executive vice president and chief financial officer of Microsoft.\"\"\""
   ]
  },
  {
   "cell_type": "code",
   "execution_count": 41,
   "id": "15b55f6d",
   "metadata": {},
   "outputs": [],
   "source": [
    "doc5=nlp(earnings_text)"
   ]
  },
  {
   "cell_type": "code",
   "execution_count": 42,
   "id": "5d4047b5",
   "metadata": {},
   "outputs": [],
   "source": [
    "filtered_tokens=[]\n",
    "for token in doc5:\n",
    "    if token.pos_ not in[\"SPACE\",\"X\",\"PUNCT\"]:\n",
    "        filtered_tokens.append(token)\n",
    "   #print(token,\"|\",token.pos_,\"|\",spacy.explain(token.pos_))"
   ]
  },
  {
   "cell_type": "code",
   "execution_count": 43,
   "id": "b6952001",
   "metadata": {},
   "outputs": [
    {
     "data": {
      "text/plain": [
       "[Microsoft,\n",
       " Corp.,\n",
       " today,\n",
       " announced,\n",
       " the,\n",
       " following,\n",
       " results,\n",
       " for,\n",
       " the,\n",
       " quarter,\n",
       " ended,\n",
       " June,\n",
       " 30,\n",
       " 2023,\n",
       " as,\n",
       " compared,\n",
       " to,\n",
       " the,\n",
       " corresponding,\n",
       " period,\n",
       " of,\n",
       " last,\n",
       " fiscal,\n",
       " year,\n",
       " Revenue,\n",
       " was,\n",
       " $,\n",
       " 56.2,\n",
       " billion,\n",
       " and,\n",
       " increased,\n",
       " 8,\n",
       " %,\n",
       " up,\n",
       " 10,\n",
       " %,\n",
       " in,\n",
       " constant,\n",
       " currency,\n",
       " Operating,\n",
       " income,\n",
       " was,\n",
       " $,\n",
       " 24.3,\n",
       " billion,\n",
       " and,\n",
       " increased,\n",
       " 18,\n",
       " %,\n",
       " up,\n",
       " 21,\n",
       " %,\n",
       " in,\n",
       " constant,\n",
       " currency,\n",
       " Net,\n",
       " income,\n",
       " was,\n",
       " $,\n",
       " 20.1,\n",
       " billion,\n",
       " and,\n",
       " increased,\n",
       " 20,\n",
       " %,\n",
       " up,\n",
       " 23,\n",
       " %,\n",
       " in,\n",
       " constant,\n",
       " currency,\n",
       " Diluted,\n",
       " earnings,\n",
       " per,\n",
       " share,\n",
       " was,\n",
       " $,\n",
       " 2.69,\n",
       " and,\n",
       " increased,\n",
       " 21,\n",
       " %,\n",
       " up,\n",
       " 23,\n",
       " %,\n",
       " in,\n",
       " constant,\n",
       " currency,\n",
       " Organizations,\n",
       " are,\n",
       " asking,\n",
       " not,\n",
       " only,\n",
       " how,\n",
       " but,\n",
       " how,\n",
       " fast,\n",
       " they,\n",
       " can,\n",
       " apply,\n",
       " this,\n",
       " next,\n",
       " generation,\n",
       " of,\n",
       " AI,\n",
       " to,\n",
       " address,\n",
       " the,\n",
       " biggest,\n",
       " opportunities,\n",
       " and,\n",
       " challenges,\n",
       " they,\n",
       " face,\n",
       " safely,\n",
       " and,\n",
       " responsibly,\n",
       " said,\n",
       " Satya,\n",
       " Nadella,\n",
       " chairman,\n",
       " and,\n",
       " chief,\n",
       " executive,\n",
       " officer,\n",
       " of,\n",
       " Microsoft,\n",
       " We,\n",
       " remain,\n",
       " focused,\n",
       " on,\n",
       " leading,\n",
       " the,\n",
       " new,\n",
       " AI,\n",
       " platform,\n",
       " shift,\n",
       " helping,\n",
       " customers,\n",
       " use,\n",
       " the,\n",
       " Microsoft,\n",
       " Cloud,\n",
       " to,\n",
       " get,\n",
       " the,\n",
       " most,\n",
       " value,\n",
       " out,\n",
       " of,\n",
       " their,\n",
       " digital,\n",
       " spend,\n",
       " driving,\n",
       " operating,\n",
       " leverage,\n",
       " We,\n",
       " delivered,\n",
       " a,\n",
       " solid,\n",
       " close,\n",
       " to,\n",
       " the,\n",
       " fiscal,\n",
       " year,\n",
       " driven,\n",
       " by,\n",
       " Microsoft,\n",
       " Cloud,\n",
       " quarterly,\n",
       " revenue,\n",
       " of,\n",
       " $,\n",
       " 30.3,\n",
       " billion,\n",
       " up,\n",
       " 21,\n",
       " %,\n",
       " up,\n",
       " 23,\n",
       " %,\n",
       " in,\n",
       " constant,\n",
       " currency,\n",
       " year,\n",
       " over,\n",
       " year,\n",
       " said,\n",
       " Amy,\n",
       " Hood,\n",
       " executive,\n",
       " vice,\n",
       " president,\n",
       " and,\n",
       " chief,\n",
       " financial,\n",
       " officer,\n",
       " of,\n",
       " Microsoft]"
      ]
     },
     "execution_count": 43,
     "metadata": {},
     "output_type": "execute_result"
    }
   ],
   "source": [
    "filtered_tokens"
   ]
  },
  {
   "cell_type": "code",
   "execution_count": 44,
   "id": "4291982a",
   "metadata": {},
   "outputs": [
    {
     "data": {
      "text/plain": [
       "{96: 15,\n",
       " 92: 45,\n",
       " 100: 25,\n",
       " 90: 10,\n",
       " 85: 19,\n",
       " 93: 21,\n",
       " 97: 38,\n",
       " 98: 3,\n",
       " 84: 23,\n",
       " 103: 10,\n",
       " 87: 6,\n",
       " 99: 5,\n",
       " 89: 9,\n",
       " 86: 10,\n",
       " 94: 3,\n",
       " 95: 5,\n",
       " 101: 2}"
      ]
     },
     "execution_count": 44,
     "metadata": {},
     "output_type": "execute_result"
    }
   ],
   "source": [
    "count=doc5.count_by(spacy.attrs.POS)\n",
    "count"
   ]
  },
  {
   "cell_type": "code",
   "execution_count": 46,
   "id": "0ea22af4",
   "metadata": {},
   "outputs": [
    {
     "name": "stdout",
     "output_type": "stream",
     "text": [
      "PROPN | 15\n",
      "NOUN | 45\n",
      "VERB | 25\n",
      "DET | 10\n",
      "ADP | 19\n",
      "NUM | 21\n",
      "PUNCT | 38\n",
      "SCONJ | 3\n",
      "ADJ | 23\n",
      "SPACE | 10\n",
      "AUX | 6\n",
      "SYM | 5\n",
      "CCONJ | 9\n",
      "ADV | 10\n",
      "PART | 3\n",
      "PRON | 5\n",
      "X | 2\n"
     ]
    }
   ],
   "source": [
    "for k,v in count.items():\n",
    "    print(doc5.vocab[k].text,\"|\",v)"
   ]
  },
  {
   "cell_type": "markdown",
   "id": "66513d87",
   "metadata": {},
   "source": [
    "Exercise"
   ]
  },
  {
   "cell_type": "code",
   "execution_count": 48,
   "id": "38af9d73",
   "metadata": {},
   "outputs": [
    {
     "data": {
      "text/plain": [
       "'Inflation rose again in April, continuing a climb that has pushed consumers to the brink and is threatening the economic expansion, the Bureau of Labor Statistics reported Wednesday.\\n\\nThe consumer price index, a broad-based measure of prices for goods and services, increased 8.3% from a year ago, higher than the Dow Jones estimate for an 8.1% gain. That represented a slight ease from March’s peak but was still close to the highest level since the summer of 1982.\\n\\nRemoving volatile food and energ'"
      ]
     },
     "execution_count": 48,
     "metadata": {},
     "output_type": "execute_result"
    }
   ],
   "source": [
    "with open(\"/Users/souravghoshhansda/Library/CloudStorage/OneDrive-UniversityofEssex/MA336/NLP_Tutorial/news_story.txt\",\"r\") as f:\n",
    "    news_text=f.read()\n",
    "news_text[:500]"
   ]
  },
  {
   "cell_type": "code",
   "execution_count": 49,
   "id": "2dff9798",
   "metadata": {},
   "outputs": [],
   "source": [
    "doc6=nlp(news_text)"
   ]
  },
  {
   "cell_type": "code",
   "execution_count": 50,
   "id": "d7f86a2e",
   "metadata": {},
   "outputs": [],
   "source": [
    "numerals=[]\n",
    "nouns=[]\n",
    "for token in doc6:\n",
    "    if token.pos_==\"NOUN\":\n",
    "        nouns.append(token)\n",
    "    elif token.pos_==\"NUM\":\n",
    "        numerals.append(token)"
   ]
  },
  {
   "cell_type": "code",
   "execution_count": 51,
   "id": "d75e8148",
   "metadata": {},
   "outputs": [
    {
     "data": {
      "text/plain": [
       "[8.3, 8.1, 1982, 6.2, 6, 0.3, 0.2, 0.6, 0.4, 0.1]"
      ]
     },
     "execution_count": 51,
     "metadata": {},
     "output_type": "execute_result"
    }
   ],
   "source": [
    "numerals[:10]"
   ]
  },
  {
   "cell_type": "code",
   "execution_count": 52,
   "id": "7e46bab2",
   "metadata": {},
   "outputs": [
    {
     "data": {
      "text/plain": [
       "[Inflation,\n",
       " climb,\n",
       " consumers,\n",
       " brink,\n",
       " expansion,\n",
       " consumer,\n",
       " price,\n",
       " index,\n",
       " measure,\n",
       " prices]"
      ]
     },
     "execution_count": 52,
     "metadata": {},
     "output_type": "execute_result"
    }
   ],
   "source": [
    "nouns[:10]"
   ]
  },
  {
   "cell_type": "code",
   "execution_count": 53,
   "id": "0a3a53c6",
   "metadata": {},
   "outputs": [
    {
     "data": {
      "text/plain": [
       "{92: 96,\n",
       " 100: 27,\n",
       " 86: 15,\n",
       " 85: 39,\n",
       " 96: 16,\n",
       " 97: 32,\n",
       " 90: 34,\n",
       " 95: 4,\n",
       " 87: 13,\n",
       " 89: 10,\n",
       " 84: 23,\n",
       " 103: 7,\n",
       " 93: 19,\n",
       " 94: 4,\n",
       " 98: 8,\n",
       " 101: 1}"
      ]
     },
     "execution_count": 53,
     "metadata": {},
     "output_type": "execute_result"
    }
   ],
   "source": [
    "count=doc6.count_by(spacy.attrs.POS)\n",
    "count"
   ]
  },
  {
   "cell_type": "code",
   "execution_count": 54,
   "id": "b3797e05",
   "metadata": {},
   "outputs": [
    {
     "name": "stdout",
     "output_type": "stream",
     "text": [
      "NOUN | 96\n",
      "VERB | 27\n",
      "ADV | 15\n",
      "ADP | 39\n",
      "PROPN | 16\n",
      "PUNCT | 32\n",
      "DET | 34\n",
      "PRON | 4\n",
      "AUX | 13\n",
      "CCONJ | 10\n",
      "ADJ | 23\n",
      "SPACE | 7\n",
      "NUM | 19\n",
      "PART | 4\n",
      "SCONJ | 8\n",
      "X | 1\n"
     ]
    }
   ],
   "source": [
    "for k,v in count.items():\n",
    "    print(doc6.vocab[k].text,\"|\",v)"
   ]
  }
 ],
 "metadata": {
  "kernelspec": {
   "display_name": "Python 3 (ipykernel)",
   "language": "python",
   "name": "python3"
  },
  "language_info": {
   "codemirror_mode": {
    "name": "ipython",
    "version": 3
   },
   "file_extension": ".py",
   "mimetype": "text/x-python",
   "name": "python",
   "nbconvert_exporter": "python",
   "pygments_lexer": "ipython3",
   "version": "3.11.4"
  }
 },
 "nbformat": 4,
 "nbformat_minor": 5
}
